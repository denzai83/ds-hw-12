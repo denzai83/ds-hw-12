{
 "cells": [
  {
   "cell_type": "code",
   "execution_count": 1,
   "metadata": {},
   "outputs": [],
   "source": [
    "text = \"\"\"\n",
    "The Orbiter Discovery, OV-103, is considered eligible for listing in the National Register of Historic Places (NRHP) in the context of the U.S. Space Shuttle Program (1969-2011) under Criterion A in the areas of Space Exploration and Transportation and under Criterion C in the area of Engineering. Because it has achieved significance within the past fifty years, Criteria Consideration G applies. Under Criterion A, Discovery is significant as the oldest of the three extant orbiter vehicles constructed for the Space Shuttle Program (SSP), the longest running American space program to date; she was the third of five orbiters built by NASA. Unlike the Mercury, Gemini, and Apollo programs, the SSP’s emphasis was on cost effectiveness and reusability, and eventually the construction of a space station. Including her maiden voyage (launched August 30, 1984), Discovery flew to space thirty-nine times, more than any of the other four orbiters; she was also the first orbiter to fly twenty missions. She had the honor of being chosen as the Return to Flight vehicle after both the Challenger and Columbia accidents. Discovery was the first shuttle to fly with the redesigned SRBs, a result of the Challenger accident, and the first shuttle to fly with the Phase II and Block I SSME. Discovery also carried the Hubble Space Telescope to orbit and performed two of the five servicing missions to the observatory. She flew the first and last dedicated Department of Defense (DoD) missions, as well as the first unclassified defense-related mission. In addition, Discovery was vital to the construction of the International Space Station (ISS); she flew thirteen of the thirty-seven total missions flown to the station by a U.S. Space Shuttle. She was the first orbiter to dock to the ISS, and the first to perform an exchange of a resident crew. Under Criterion C, Discovery is significant as a feat of engineering. According to Wayne Hale, a flight director from Johnson Space Center, the Space Shuttle orbiter represents a “huge technological leap from expendable rockets and capsules to a reusable, winged, hypersonic, cargo-carrying spacecraft.” Although her base structure followed a conventional aircraft design, she used advanced materials that both minimized her weight for cargo-carrying purposes and featured low thermal expansion ratios, which provided a stable base for her Thermal Protection System (TPS) materials. The Space Shuttle orbiter also featured the first reusable TPS; all previous spaceflight vehicles had a single-use, ablative heat shield. Other notable engineering achievements of the orbiter included the first reusable orbital propulsion system, and the first two-fault-tolerant Integrated Avionics System. As Hale stated, the Space Shuttle remains “the largest, fastest, winged hypersonic aircraft in history,” having regularly flown at twenty-five times the speed of sound.\n",
    "\"\"\""
   ]
  },
  {
   "cell_type": "markdown",
   "metadata": {},
   "source": [
    "__SpaCy__"
   ]
  },
  {
   "cell_type": "code",
   "execution_count": 2,
   "metadata": {},
   "outputs": [],
   "source": [
    "import spacy\n",
    "from spacy.lang.en.stop_words import STOP_WORDS as spacy_SW\n",
    "from string import punctuation as punct\n",
    "from heapq import nlargest"
   ]
  },
  {
   "cell_type": "markdown",
   "metadata": {},
   "source": [
    "Завантажимо попередньо навчену модель SpaCy для англійської мови та обробимо заданий текст за допомогою неї:"
   ]
  },
  {
   "cell_type": "code",
   "execution_count": 3,
   "metadata": {},
   "outputs": [],
   "source": [
    "nlp = spacy.load(\"en_core_web_sm\")\n",
    "doc = nlp(text)"
   ]
  },
  {
   "cell_type": "markdown",
   "metadata": {},
   "source": [
    "Створимо списки стоп-слів та знаків пунктуації:"
   ]
  },
  {
   "cell_type": "code",
   "execution_count": 4,
   "metadata": {},
   "outputs": [
    {
     "name": "stdout",
     "output_type": "stream",
     "text": [
      "['thereupon', 'toward', 'although', 'every', 'top', 'could', 'your', 'hundred', 'should', 'that', 'hereafter', 'more', 'much', 'whereupon', 'also', 'part', 'will', 'quite', 'even', 'until', 'on', 'fifty', 'some', 'become', 'for', 'there', 'upon', 'to', 'around', 'becomes', 'each', 'an', 'ever', 'third', 'side', 'doing', 'just', 'now', 'whereas', 'everywhere', 'somewhere', 'serious', 'why', 'anyway', 'within', '’ve', 'anyhow', 'becoming', 'never', 'afterwards', 'up', 'get', 'can', 'though', 'well', 'while', 'a', 'any', 'further', 'is', 'it', 'always', 'anyone', '‘s', 'i', 'anything', 'but', 'without', 'have', 'among', 'front', '’ll', 'anywhere', 'when', 'does', 'herself', 'n‘t', 'alone', 'beyond', 'hence', 'was', 'you', 'very', 'again', 'nobody', 'then', 'whoever', 'by', 'its', 'name', 'formerly', 'via', 'ten', \"'ve\", 'one', 'neither', 'during', 'how', 'yourself', 'seems', 'here', 'do', 'than', 'forty', 'our', 'we', 'where', 'namely', 'mostly', 'such', 'somehow', 'of', 'together', 'except', 'sometimes', '’m', 'must', 'yet', 'yours', 'someone', 'sixty', 'already', 'others', \"'s\", 'this', 'besides', 'him', 'however', 'below', 'wherever', 'nine', 'two', 'other', 'may', 'whom', \"n't\", '’s', 'either', 'thereby', 'not', 'thus', 'show', 'through', 'with', 'none', 'seeming', 'seem', 'off', 'unless', 'three', 'whereby', 'am', 'once', 'many', 'about', 'made', 'various', 'regarding', 'be', 'behind', 'several', 'both', 'whose', 'move', 'been', 'former', 'amongst', \"'d\", 'in', 'itself', 'perhaps', 'into', 'thence', 'therein', 'before', '’d', 'seemed', 'himself', \"'re\", 'as', 'often', '’re', 'hereupon', 'down', \"'m\", 'those', 'nor', 'thru', 'first', 'used', 'please', 'see', 'ca', 'rather', 'noone', 'put', 'no', 'these', 'did', 'whereafter', 'out', 'over', 'next', 'wherein', 'from', 'them', 'above', 'otherwise', 'only', 'since', 'call', 'his', 'along', 'six', 'would', 'and', 'per', 'whatever', 'yourselves', 'moreover', 'ourselves', 'enough', \"'ll\", 'which', 'hereby', 'less', 'indeed', 'between', 'eight', 'hers', 'most', 'sometime', 'beside', 'whither', 'meanwhile', 'whole', 'onto', 'still', 're', 'few', 'cannot', 'another', 'at', '‘d', '‘re', 'everyone', 'whenever', 'he', 'themselves', 'due', 'nevertheless', 'almost', 'her', 'their', 'the', 'least', 'after', 'else', 'my', 'towards', 'too', 'nothing', 'n’t', 'whence', 'elsewhere', 'therefore', 'thereafter', 'last', 'say', '‘m', 'beforehand', 'so', 'really', 'fifteen', 'were', 'using', 'against', 'across', 'give', 'twelve', 'they', 'twenty', 'us', 'four', 'keep', 'nowhere', 'what', 'who', 'something', 'eleven', 'mine', 'latter', 'amount', 'me', 'make', 'or', 'same', 'became', 'everything', 'if', 'bottom', 'had', 'back', 'she', 'own', 'ours', 'herein', '‘ll', '‘ve', 'all', 'whether', 'has', 'done', 'five', 'take', 'might', 'myself', 'empty', 'full', 'because', 'are', 'under', 'latterly', 'throughout', 'being', 'go']\n",
      "!\"#$%&'()*+,-./:;<=>?@[\\]^_`{|}~\n",
      "\n"
     ]
    }
   ],
   "source": [
    "sp_stopwords = list(spacy_SW)\n",
    "punctuation = punct + '\\n'\n",
    "print(sp_stopwords)\n",
    "print(punctuation)"
   ]
  },
  {
   "cell_type": "markdown",
   "metadata": {},
   "source": [
    "Вираховуємо частоти слів у тексті та нормалізуємо їх:"
   ]
  },
  {
   "cell_type": "code",
   "execution_count": 5,
   "metadata": {},
   "outputs": [],
   "source": [
    "word_frequencies = {}\n",
    "\n",
    "for word in doc:\n",
    "    if word.text.lower() not in sp_stopwords and word.text.lower() not in punctuation:\n",
    "        if word.text not in word_frequencies:\n",
    "            word_frequencies[word.text] = 1\n",
    "        else:\n",
    "            word_frequencies[word.text] += 1\n",
    "\n",
    "max_frequency = max(word_frequencies.values())\n",
    "\n",
    "for word in word_frequencies.keys():\n",
    "    word_frequencies[word] = word_frequencies[word] / max_frequency"
   ]
  },
  {
   "cell_type": "markdown",
   "metadata": {},
   "source": [
    "Розбиваємо текст на речення та вираховуємо оцінки важливості речень:"
   ]
  },
  {
   "cell_type": "code",
   "execution_count": 6,
   "metadata": {},
   "outputs": [
    {
     "data": {
      "text/plain": [
       "{\n",
       " The Orbiter Discovery, OV-103, is considered eligible for listing in the National Register of Historic Places (NRHP) in the context of the U.S. Space Shuttle Program (1969-2011) under Criterion A in the areas of Space Exploration and Transportation and under Criterion C in the area of Engineering.: 2.5000000000000004,\n",
       " Because it has achieved significance within the past fifty years, Criteria Consideration G applies.: 0.5,\n",
       " Under Criterion A, Discovery is significant as the oldest of the three extant orbiter vehicles constructed for the Space Shuttle Program (SSP), the longest running American space program to date; she was the third of five orbiters built by NASA.: 2.9000000000000004,\n",
       " Unlike the Mercury, Gemini, and Apollo programs, the SSP’s emphasis was on cost effectiveness and reusability, and eventually the construction of a space station.: 1.3,\n",
       " Including her maiden voyage (launched August 30, 1984), Discovery flew to space thirty-nine times, more than any of the other four orbiters; she was also the first orbiter to fly twenty missions.: 2.9999999999999996,\n",
       " She had the honor of being chosen as the Return to Flight vehicle after both the Challenger and Columbia accidents.: 0.5,\n",
       " Discovery was the first shuttle to fly with the redesigned SRBs, a result of the Challenger accident, and the first shuttle to fly with the Phase II and Block I SSME.: 1.3,\n",
       " Discovery also carried the Hubble Space Telescope to orbit and performed two of the five servicing missions to the observatory.: 1.2000000000000002,\n",
       " She flew the first and last dedicated Department of Defense (DoD) missions, as well as the first unclassified defense-related mission.: 1.3000000000000003,\n",
       " In addition, Discovery was vital to the construction of the International Space Station (ISS); she flew thirteen of the thirty-seven total missions flown to the station by a U.S. Space Shuttle.: 3.0000000000000004,\n",
       " She was the first orbiter to dock to the ISS, and the first to perform an exchange of a resident crew.: 1.0999999999999999,\n",
       " Under Criterion C, Discovery is significant as a feat of engineering.: 0.5,\n",
       " According to Wayne Hale, a flight director from Johnson Space Center, the Space Shuttle orbiter represents a “huge technological leap from expendable rockets and capsules to a reusable, winged, hypersonic, cargo-carrying spacecraft.”: 3.9000000000000012,\n",
       " Although her base structure followed a conventional aircraft design, she used advanced materials that both minimized her weight for cargo-carrying purposes and featured low thermal expansion ratios, which provided a stable base for her Thermal Protection System (TPS) materials.: 3.200000000000001,\n",
       " The Space Shuttle orbiter also featured the first reusable TPS; all previous spaceflight vehicles had a single-use, ablative heat shield.: 2.500000000000001,\n",
       " Other notable engineering achievements of the orbiter included the first reusable orbital propulsion system, and the first two-fault-tolerant Integrated Avionics System.: 2.0000000000000004,\n",
       " As Hale stated, the Space Shuttle remains “the largest, fastest, winged hypersonic aircraft in history,” having regularly flown at twenty-five times the speed of sound.: 2.800000000000001}"
      ]
     },
     "execution_count": 6,
     "metadata": {},
     "output_type": "execute_result"
    }
   ],
   "source": [
    "sentence_tokens = list(doc.sents)\n",
    "\n",
    "sentence_scores = {}\n",
    "\n",
    "for sent in sentence_tokens:\n",
    "    for word in sent:\n",
    "        if word.text.lower() in word_frequencies.keys():\n",
    "            if sent not in sentence_scores:\n",
    "                sentence_scores[sent] = word_frequencies[word.text.lower()]\n",
    "            else:\n",
    "                sentence_scores[sent] += word_frequencies[word.text.lower()]\n",
    "                \n",
    "sentence_scores"
   ]
  },
  {
   "cell_type": "markdown",
   "metadata": {},
   "source": [
    "Створимо резюме тексту, виводячи речення у порядку спадання важливості:"
   ]
  },
  {
   "cell_type": "code",
   "execution_count": 7,
   "metadata": {},
   "outputs": [
    {
     "name": "stdout",
     "output_type": "stream",
     "text": [
      "According to Wayne Hale, a flight director from Johnson Space Center, the Space Shuttle orbiter represents a “huge technological leap from expendable rockets and capsules to a reusable, winged, hypersonic, cargo-carrying spacecraft.”\n",
      "Although her base structure followed a conventional aircraft design, she used advanced materials that both minimized her weight for cargo-carrying purposes and featured low thermal expansion ratios, which provided a stable base for her Thermal Protection System (TPS) materials.\n",
      "In addition, Discovery was vital to the construction of the International Space Station (ISS); she flew thirteen of the thirty-seven total missions flown to the station by a U.S. Space Shuttle.\n",
      "Including her maiden voyage (launched August 30, 1984), Discovery flew to space thirty-nine times, more than any of the other four orbiters; she was also the first orbiter to fly twenty missions.\n",
      "Under Criterion A, Discovery is significant as the oldest of the three extant orbiter vehicles constructed for the Space Shuttle Program (SSP), the longest running American space program to date; she was the third of five orbiters built by NASA.\n",
      "As Hale stated, the Space Shuttle remains “the largest, fastest, winged hypersonic aircraft in history,” having regularly flown at twenty-five times the speed of sound.\n",
      "\n",
      "The Space Shuttle orbiter also featured the first reusable TPS; all previous spaceflight vehicles had a single-use, ablative heat shield.\n",
      "\n",
      "The Orbiter Discovery, OV-103, is considered eligible for listing in the National Register of Historic Places (NRHP) in the context of the U.S. Space Shuttle Program (1969-2011) under Criterion A in the areas of Space Exploration and Transportation and under Criterion C in the area of Engineering.\n",
      "Other notable engineering achievements of the orbiter included the first reusable orbital propulsion system, and the first two-fault-tolerant Integrated Avionics System.\n",
      "She flew the first and last dedicated Department of Defense (DoD) missions, as well as the first unclassified defense-related mission.\n",
      "Unlike the Mercury, Gemini, and Apollo programs, the SSP’s emphasis was on cost effectiveness and reusability, and eventually the construction of a space station.\n",
      "Discovery was the first shuttle to fly with the redesigned SRBs, a result of the Challenger accident, and the first shuttle to fly with the Phase II and Block I SSME.\n",
      "Discovery also carried the Hubble Space Telescope to orbit and performed two of the five servicing missions to the observatory.\n",
      "She was the first orbiter to dock to the ISS, and the first to perform an exchange of a resident crew.\n",
      "Because it has achieved significance within the past fifty years, Criteria Consideration G applies.\n",
      "She had the honor of being chosen as the Return to Flight vehicle after both the Challenger and Columbia accidents.\n",
      "Under Criterion C, Discovery is significant as a feat of engineering.\n"
     ]
    }
   ],
   "source": [
    "select_length = len(sentence_tokens)\n",
    "\n",
    "summary = nlargest(select_length, sentence_scores, key=sentence_scores.get)\n",
    "for sentence in summary:\n",
    "    print(sentence.text)"
   ]
  },
  {
   "cell_type": "markdown",
   "metadata": {},
   "source": [
    "__NLTK__"
   ]
  },
  {
   "cell_type": "code",
   "execution_count": 8,
   "metadata": {},
   "outputs": [],
   "source": [
    "import nltk\n",
    "from nltk.corpus import stopwords\n",
    "from nltk.tokenize import word_tokenize, sent_tokenize\n",
    "from heapq import nlargest"
   ]
  },
  {
   "cell_type": "markdown",
   "metadata": {},
   "source": [
    "Створимо списки стоп-слів та знаків пунктуації:"
   ]
  },
  {
   "cell_type": "code",
   "execution_count": 9,
   "metadata": {},
   "outputs": [
    {
     "name": "stdout",
     "output_type": "stream",
     "text": [
      "{'before', 'during', \"doesn't\", \"wouldn't\", 'he', 'themselves', 'how', 'himself', 'wasn', 'wouldn', \"needn't\", 'as', 'yourself', 'your', \"shouldn't\", \"hasn't\", 'her', 'here', 'do', 'than', 'our', 'should', 'shan', 'that', 'we', 'where', 'm', 'their', 'down', 'more', 'the', 'those', 'such', 'nor', 'will', 'after', 'weren', 'of', 'until', 'ain', 'on', \"won't\", 'd', 'my', \"haven't\", 'yours', 'no', 'these', 'some', 'did', 'too', \"it's\", 'for', 'ma', 'theirs', \"that'll\", 'hadn', 'there', 'shouldn', 'to', 'out', 'each', 'this', \"aren't\", \"she's\", 'an', 'over', 'from', 'doing', \"don't\", \"isn't\", 'mightn', 'just', 'him', 'now', 'why', 'so', 'below', 'them', 'above', 'were', \"hadn't\", \"didn't\", 'doesn', 'against', 'other', 'only', 'they', 'whom', 'his', \"weren't\", 've', \"you're\", 'and', 'what', 'who', 'up', 'not', 'll', 'can', 'yourselves', 'through', 'with', 'while', \"you'll\", 'ourselves', 'a', \"you've\", 'any', 'is', 'further', 'it', 'off', \"couldn't\", 'haven', 'i', 'am', 'isn', 'but', 'once', 'y', 'about', 'me', 'couldn', 'have', 'hasn', 'or', 'same', 'be', 'if', 'didn', 'had', 'which', 't', 'she', 'own', 'between', 'when', 'ours', 'hers', 'both', 'most', 'won', 'does', 'all', 'herself', 'has', 'been', \"wasn't\", \"should've\", 'was', 'you', \"mustn't\", 'very', 'o', 'in', 'again', 'don', \"you'd\", 'itself', 'aren', 'myself', 'then', \"mightn't\", 'having', 'because', 'are', 'into', 'needn', 'under', 'by', 'its', 're', 'few', 'being', 's', \"shan't\", 'at', 'mustn'}\n"
     ]
    },
    {
     "name": "stderr",
     "output_type": "stream",
     "text": [
      "[nltk_data] Downloading package stopwords to\n",
      "[nltk_data]     C:\\Users\\Денис\\AppData\\Roaming\\nltk_data...\n",
      "[nltk_data]   Package stopwords is already up-to-date!\n",
      "[nltk_data] Downloading package punkt to\n",
      "[nltk_data]     C:\\Users\\Денис\\AppData\\Roaming\\nltk_data...\n",
      "[nltk_data]   Package punkt is already up-to-date!\n"
     ]
    }
   ],
   "source": [
    "nltk.download('stopwords')\n",
    "nltk.download('punkt')\n",
    "nltk_stop_words = set(stopwords.words('english'))\n",
    "print(nltk_stop_words)"
   ]
  },
  {
   "cell_type": "markdown",
   "metadata": {},
   "source": [
    "Проведемо токенізацію тексту на слова та речення:"
   ]
  },
  {
   "cell_type": "code",
   "execution_count": 10,
   "metadata": {},
   "outputs": [
    {
     "name": "stdout",
     "output_type": "stream",
     "text": [
      "Number of words in text: 519\n",
      "Number of sentences in text: 16\n"
     ]
    }
   ],
   "source": [
    "nltk_tokens = word_tokenize(text)\n",
    "sentences_list = sent_tokenize(text)\n",
    "print(f'Number of words in text: {len(nltk_tokens)}')\n",
    "print(f'Number of sentences in text: {len(sentences_list)}')"
   ]
  },
  {
   "cell_type": "markdown",
   "metadata": {},
   "source": [
    "Вираховуємо частоти слів у тексті та нормалізуємо їх:"
   ]
  },
  {
   "cell_type": "code",
   "execution_count": 11,
   "metadata": {},
   "outputs": [],
   "source": [
    "nltk_word_frequencies = {}\n",
    "\n",
    "for word in nltk_tokens:\n",
    "    if word.lower() not in nltk_stop_words and word.lower() not in punctuation:\n",
    "        if word not in nltk_word_frequencies:\n",
    "            nltk_word_frequencies[word] = 1\n",
    "        else:\n",
    "            nltk_word_frequencies[word] += 1\n",
    "\n",
    "nltk_max_frequency = max(nltk_word_frequencies.values())\n",
    "\n",
    "for word in nltk_word_frequencies.keys():\n",
    "    nltk_word_frequencies[word] = nltk_word_frequencies[word] / nltk_max_frequency"
   ]
  },
  {
   "cell_type": "markdown",
   "metadata": {},
   "source": [
    "Вираховуємо оцінки важливості речень:"
   ]
  },
  {
   "cell_type": "code",
   "execution_count": 12,
   "metadata": {},
   "outputs": [
    {
     "data": {
      "text/plain": [
       "{'\\nThe Orbiter Discovery, OV-103, is considered eligible for listing in the National Register of Historic Places (NRHP) in the context of the U.S. Space Shuttle Program (1969-2011) under Criterion A in the areas of Space Exploration and Transportation and under Criterion C in the area of Engineering.': 2.4000000000000004,\n",
       " 'Because it has achieved significance within the past fifty years, Criteria Consideration G applies.': 0.7,\n",
       " 'Under Criterion A, Discovery is significant as the oldest of the three extant orbiter vehicles constructed for the Space Shuttle Program (SSP), the longest running American space program to date; she was the third of five orbiters built by NASA.': 3.3000000000000007,\n",
       " 'Unlike the Mercury, Gemini, and Apollo programs, the SSP’s emphasis was on cost effectiveness and reusability, and eventually the construction of a space station.': 1.4,\n",
       " 'Including her maiden voyage (launched August 30, 1984), Discovery flew to space thirty-nine times, more than any of the other four orbiters; she was also the first orbiter to fly twenty missions.': 4.4,\n",
       " 'She had the honor of being chosen as the Return to Flight vehicle after both the Challenger and Columbia accidents.': 0.5,\n",
       " 'Discovery was the first shuttle to fly with the redesigned SRBs, a result of the Challenger accident, and the first shuttle to fly with the Phase II and Block I SSME.': 3.3000000000000003,\n",
       " 'Discovery also carried the Hubble Space Telescope to orbit and performed two of the five servicing missions to the observatory.': 1.8000000000000003,\n",
       " 'She flew the first and last dedicated Department of Defense (DoD) missions, as well as the first unclassified defense-related mission.': 3.3000000000000007,\n",
       " 'In addition, Discovery was vital to the construction of the International Space Station (ISS); she flew thirteen of the thirty-seven total missions flown to the station by a U.S. Space Shuttle.': 2.8000000000000007,\n",
       " 'She was the first orbiter to dock to the ISS, and the first to perform an exchange of a resident crew.': 3.1000000000000005,\n",
       " 'Under Criterion C, Discovery is significant as a feat of engineering.': 0.5,\n",
       " 'According to Wayne Hale, a flight director from Johnson Space Center, the Space Shuttle orbiter represents a “huge technological leap from expendable rockets and capsules to a reusable, winged, hypersonic, cargo-carrying spacecraft.” Although her base structure followed a conventional aircraft design, she used advanced materials that both minimized her weight for cargo-carrying purposes and featured low thermal expansion ratios, which provided a stable base for her Thermal Protection System (TPS) materials.': 6.799999999999996,\n",
       " 'The Space Shuttle orbiter also featured the first reusable TPS; all previous spaceflight vehicles had a single-use, ablative heat shield.': 3.7000000000000006,\n",
       " 'Other notable engineering achievements of the orbiter included the first reusable orbital propulsion system, and the first two-fault-tolerant Integrated Avionics System.': 3.9000000000000004,\n",
       " 'As Hale stated, the Space Shuttle remains “the largest, fastest, winged hypersonic aircraft in history,” having regularly flown at twenty-five times the speed of sound.': 2.800000000000001}"
      ]
     },
     "execution_count": 12,
     "metadata": {},
     "output_type": "execute_result"
    }
   ],
   "source": [
    "nltk_sentence_score = {}\n",
    "\n",
    "for sent in sentences_list:\n",
    "    for word in word_tokenize(sent.lower()):\n",
    "        if word.lower() in nltk_word_frequencies.keys():\n",
    "            if sent not in nltk_sentence_score:\n",
    "                nltk_sentence_score[sent] = nltk_word_frequencies[word.lower()]\n",
    "            else:\n",
    "                nltk_sentence_score[sent] += nltk_word_frequencies[word.lower()]\n",
    "\n",
    "nltk_sentence_score"
   ]
  },
  {
   "cell_type": "markdown",
   "metadata": {},
   "source": [
    "Створимо резюме тексту, виводячи речення у порядку спадання важливості:"
   ]
  },
  {
   "cell_type": "code",
   "execution_count": 13,
   "metadata": {},
   "outputs": [
    {
     "name": "stdout",
     "output_type": "stream",
     "text": [
      "According to Wayne Hale, a flight director from Johnson Space Center, the Space Shuttle orbiter represents a “huge technological leap from expendable rockets and capsules to a reusable, winged, hypersonic, cargo-carrying spacecraft.” Although her base structure followed a conventional aircraft design, she used advanced materials that both minimized her weight for cargo-carrying purposes and featured low thermal expansion ratios, which provided a stable base for her Thermal Protection System (TPS) materials.\n",
      "Including her maiden voyage (launched August 30, 1984), Discovery flew to space thirty-nine times, more than any of the other four orbiters; she was also the first orbiter to fly twenty missions.\n",
      "Other notable engineering achievements of the orbiter included the first reusable orbital propulsion system, and the first two-fault-tolerant Integrated Avionics System.\n",
      "The Space Shuttle orbiter also featured the first reusable TPS; all previous spaceflight vehicles had a single-use, ablative heat shield.\n",
      "Under Criterion A, Discovery is significant as the oldest of the three extant orbiter vehicles constructed for the Space Shuttle Program (SSP), the longest running American space program to date; she was the third of five orbiters built by NASA.\n",
      "She flew the first and last dedicated Department of Defense (DoD) missions, as well as the first unclassified defense-related mission.\n",
      "Discovery was the first shuttle to fly with the redesigned SRBs, a result of the Challenger accident, and the first shuttle to fly with the Phase II and Block I SSME.\n",
      "She was the first orbiter to dock to the ISS, and the first to perform an exchange of a resident crew.\n",
      "As Hale stated, the Space Shuttle remains “the largest, fastest, winged hypersonic aircraft in history,” having regularly flown at twenty-five times the speed of sound.\n",
      "In addition, Discovery was vital to the construction of the International Space Station (ISS); she flew thirteen of the thirty-seven total missions flown to the station by a U.S. Space Shuttle.\n",
      "\n",
      "The Orbiter Discovery, OV-103, is considered eligible for listing in the National Register of Historic Places (NRHP) in the context of the U.S. Space Shuttle Program (1969-2011) under Criterion A in the areas of Space Exploration and Transportation and under Criterion C in the area of Engineering.\n",
      "Discovery also carried the Hubble Space Telescope to orbit and performed two of the five servicing missions to the observatory.\n",
      "Unlike the Mercury, Gemini, and Apollo programs, the SSP’s emphasis was on cost effectiveness and reusability, and eventually the construction of a space station.\n",
      "Because it has achieved significance within the past fifty years, Criteria Consideration G applies.\n",
      "She had the honor of being chosen as the Return to Flight vehicle after both the Challenger and Columbia accidents.\n",
      "Under Criterion C, Discovery is significant as a feat of engineering.\n"
     ]
    }
   ],
   "source": [
    "nltk_select_length = len(sentences_list)\n",
    "\n",
    "nltk_summary = nlargest(nltk_select_length, nltk_sentence_score, key=nltk_sentence_score.get)\n",
    "\n",
    "for sentence in nltk_summary:\n",
    "    print(sentence)"
   ]
  }
 ],
 "metadata": {
  "kernelspec": {
   "display_name": "Python 3",
   "language": "python",
   "name": "python3"
  },
  "language_info": {
   "codemirror_mode": {
    "name": "ipython",
    "version": 3
   },
   "file_extension": ".py",
   "mimetype": "text/x-python",
   "name": "python",
   "nbconvert_exporter": "python",
   "pygments_lexer": "ipython3",
   "version": "3.10.7"
  },
  "orig_nbformat": 4
 },
 "nbformat": 4,
 "nbformat_minor": 2
}
